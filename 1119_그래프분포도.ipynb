{
 "cells": [
  {
   "cell_type": "code",
   "execution_count": 1,
   "metadata": {},
   "outputs": [],
   "source": [
    "#%matplotlib inline\n",
    "%matplotlib nbagg\n",
    "import matplotlib\n",
    "import matplotlib.pyplot as plt\n",
    "import numpy as np\n",
    "import pandas as pd"
   ]
  },
  {
   "cell_type": "code",
   "execution_count": null,
   "metadata": {},
   "outputs": [],
   "source": [
    "s=pd.Series(np.random.rand(10).cumsum(),index=np.arange(0,100,10))\n",
    "print(s)\n",
    "#s.plot()"
   ]
  },
  {
   "cell_type": "code",
   "execution_count": null,
   "metadata": {},
   "outputs": [],
   "source": [
    "s=pd.Series(np.random.rand(10))\n",
    "print(s)\n",
    "#s.plot()"
   ]
  },
  {
   "cell_type": "code",
   "execution_count": null,
   "metadata": {},
   "outputs": [],
   "source": [
    "df=pd.DataFrame(np.random.rand(10,4),columns=['A','B','C','D'],index=np.arange(0,100,10))\n",
    "df.plot()\n",
    "df.name=\"종류\"\n",
    "df['B'].plot()\n",
    "df['C'].plot()\n",
    "df['D'].plot()"
   ]
  },
  {
   "cell_type": "code",
   "execution_count": null,
   "metadata": {},
   "outputs": [],
   "source": [
    "df.plot(kind='bar',stacked=False)"
   ]
  },
  {
   "cell_type": "code",
   "execution_count": null,
   "metadata": {},
   "outputs": [],
   "source": [
    "df2=pd.DataFrame(np.random.rand(6,4),\n",
    "index=['one','two','three','four','five','six'],\n",
    "columns=pd.Index(['A','B','C','D'],name=\"종류\"))\n",
    "df2"
   ]
  },
  {
   "cell_type": "code",
   "execution_count": null,
   "metadata": {},
   "outputs": [],
   "source": [
    "from matplotlib import rc,font_manager\n",
    "font_name=font_manager.FontProperties(fname=\"c:/Windows/fonts/malgun.ttf\").get_name()\n",
    "rc('font',family=font_name)"
   ]
  },
  {
   "cell_type": "code",
   "execution_count": null,
   "metadata": {},
   "outputs": [],
   "source": [
    "df2.plot(kind='barh',stacked=True)"
   ]
  },
  {
   "cell_type": "code",
   "execution_count": null,
   "metadata": {},
   "outputs": [],
   "source": [
    "s3=pd.Series(np.random.normal(0,100,size=200))\n",
    "s3.head()\n",
    "plt.rcParams['axes.unicode_minus']=False\n",
    "s3.hist(bins=50)\n",
    "s3.hist(bins=100,normed=True)"
   ]
  },
  {
   "cell_type": "code",
   "execution_count": null,
   "metadata": {},
   "outputs": [],
   "source": [
    "x1=np.random.normal(1,1,size=(100,1))\n",
    "x2=np.random.normal(-2,4,size=(100,1))\n",
    "x=np.concatenate((x1,x2),axis=1)\n",
    "print(x1[:5]);print(x2[:5])\n",
    "print(x[:5])\n",
    "df3=pd.DataFrame(x,columns=['x1','x2'])\n",
    "df3[:5]\n",
    "\n",
    "plt.scatter(df3.x1,df3.x2)"
   ]
  },
  {
   "cell_type": "code",
   "execution_count": 9,
   "metadata": {},
   "outputs": [
    {
     "name": "stdout",
     "output_type": "stream",
     "text": [
      "2014-02-16 00:00:00 missing date\n"
     ]
    }
   ],
   "source": [
    "from matplotlib import rc,font_manager\n",
    "filename=\"data/temperature_2014.csv\"\n",
    "output_file=140\n",
    "]000000000000000000000000000000000000000000000000000000000"
   ]
  },
  {
   "cell_type": "code",
   "execution_count": null,
   "metadata": {},
   "outputs": [],
   "source": []
  }
 ],
 "metadata": {
  "kernelspec": {
   "display_name": "Python 3",
   "language": "python",
   "name": "python3"
  },
  "language_info": {
   "codemirror_mode": {
    "name": "ipython",
    "version": 3
   },
   "file_extension": ".py",
   "mimetype": "text/x-python",
   "name": "python",
   "nbconvert_exporter": "python",
   "pygments_lexer": "ipython3",
   "version": "3.7.4"
  }
 },
 "nbformat": 4,
 "nbformat_minor": 2
}
