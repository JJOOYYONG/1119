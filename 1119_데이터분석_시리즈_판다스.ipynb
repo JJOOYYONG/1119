{
 "cells": [
  {
   "cell_type": "code",
   "execution_count": null,
   "metadata": {},
   "outputs": [],
   "source": [
    "import numpy as np\n",
    "import pandas as pd"
   ]
  },
  {
   "cell_type": "code",
   "execution_count": null,
   "metadata": {},
   "outputs": [],
   "source": [
    "obj=pd.Series([1,2,3,4,5],index=['a','b','c','d','e'])\n",
    "print(obj)\n",
    "#별겨의 요소 출력은 리스트로 묶어줘야한다.\n",
    "obj[['b','d']]\n",
    "obj['b':'d']"
   ]
  },
  {
   "cell_type": "code",
   "execution_count": null,
   "metadata": {},
   "outputs": [],
   "source": [
    "data={'name':['홍길동','성춘향','콩쥐','팥쥐'],\n",
    "       'score':[85,75,60,65],\n",
    "        'sno':[1,2,3,4]}\n",
    "print(type(data))\n",
    "df=pd.DataFrame(data)\n",
    "df.index=['a','b','c','d']\n",
    "#새로운 필드 넣기\n",
    "df['major']=['컴공','멀티','잔텅','컴공']\n",
    "#필드 호출\n",
    "df.name\n",
    "#필드 내용 수정\n",
    "df.major=['컴퓨터공학','멀티미디어','정보통신','컴퓨터공학']\n",
    "df\n",
    "#필드삭제\n",
    "del df['major']\n",
    "#더한값 행별 정렬\n",
    "df.sum(axis=0)\n",
    "df.describe"
   ]
  },
  {
   "cell_type": "code",
   "execution_count": null,
   "metadata": {},
   "outputs": [],
   "source": [
    "#원본 df에는 영향이 없다.\n",
    "#행을 지울때는 축을 적지않아도 되지만 열을 지울때는 적어야함\n",
    "df1=df.drop('sno',axis=1)\n",
    "df2=df.drop('a')\n",
    "df2"
   ]
  },
  {
   "cell_type": "code",
   "execution_count": null,
   "metadata": {},
   "outputs": [],
   "source": [
    "#판다스\n",
    "import sys\n",
    "input_file=\"data/input.csv\"\n",
    "output_file=\"data/output10.csv\"\n",
    "#데이터 읽기\n",
    "df= pd. read_csv(input_file)\n",
    "df['Cost']=df['Cost'].str.strip('$')\n",
    "#저정하는 법\n",
    "#df.to_csv(output_file,index=False)\n",
    "df['Cost']=df['Cost'].str.replace(',','').astype(float)\n",
    "result=df.loc[(df['Supplier Name']=='A')|(df['Cost']>600000.0)]\n",
    "result"
   ]
  },
  {
   "cell_type": "code",
   "execution_count": null,
   "metadata": {},
   "outputs": [],
   "source": [
    "#평균하기\n",
    "result2=df.groupby(['Supplier Name'],as_index=False).mean()\n",
    "result2"
   ]
  },
  {
   "cell_type": "code",
   "execution_count": null,
   "metadata": {},
   "outputs": [],
   "source": [
    "input_file=\"data/ratings.dat\"\n",
    "df=pd.read_csv(input_file)\n",
    "df1=df[['movieid','ratings']]\n",
    "result=df1.groupby(df1.movieid,as_index=False).mean()\n",
    "result[:20]"
   ]
  },
  {
   "cell_type": "code",
   "execution_count": null,
   "metadata": {},
   "outputs": [],
   "source": [
    "df1=pd.read_csv(\"data/2006.csv\",sep=\",\")\n",
    "df2=pd.read_csv(\"data/2007.csv\",sep=\",\")\n",
    "df3=pd.read_csv(\"data/2008.csv\",sep=\",\")\n",
    "df1.append(df2)\n",
    "df1.append(df3)\n",
    "df1.shape\n",
    "#필드확인\n",
    "df1.columns\n",
    "#전체 데이터에서 년,월,도착지연시간, 출발 지연 시간 추출\n",
    "df=df1[['Year','Month','ArrDelay','DepDelay']]\n",
    "df2.head()\n",
    "df2.tail()\n",
    "df2.shape\n",
    "df2=df2.dropna(how=\"any\")\n",
    "result=df.groupby(['Year','Month'],as_index=False).sum()\n",
    "result\n",
    "result.to_csv(\"data/airline/result.csv\",sep=\",\")\n",
    "print(result)"
   ]
  }
 ],
 "metadata": {
  "kernelspec": {
   "display_name": "Python 3",
   "language": "python",
   "name": "python3"
  },
  "language_info": {
   "codemirror_mode": {
    "name": "ipython",
    "version": 3
   },
   "file_extension": ".py",
   "mimetype": "text/x-python",
   "name": "python",
   "nbconvert_exporter": "python",
   "pygments_lexer": "ipython3",
   "version": "3.7.4"
  }
 },
 "nbformat": 4,
 "nbformat_minor": 2
}
