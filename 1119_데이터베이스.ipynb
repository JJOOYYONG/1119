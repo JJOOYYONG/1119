{
 "cells": [
  {
   "cell_type": "code",
   "execution_count": 1,
   "metadata": {},
   "outputs": [],
   "source": [
    "import sqlite3"
   ]
  },
  {
   "cell_type": "code",
   "execution_count": 2,
   "metadata": {},
   "outputs": [],
   "source": [
    "def create_table():\n",
    "    conn=sqlite3.connect('my_books2.db')\n",
    "    cursor=conn.cursor()\n",
    "    cursor.execute('''create table if not exists books(\n",
    "    title text,\n",
    "    pulished_date text,\n",
    "    publisher text,\n",
    "    pages integer,\n",
    "    recommend integer\n",
    "    )''')\n",
    "    conn.commit()\n",
    "    conn.close()\n",
    "    \n",
    "create_table()"
   ]
  },
  {
   "cell_type": "code",
   "execution_count": 3,
   "metadata": {},
   "outputs": [],
   "source": [
    "def insert_books():\n",
    "    conn=sqlite3.connect(\"my_books2.db\")\n",
    "    cursor=conn.cursor()\n",
    "    cursor.execute(\"\"\"insert into books\n",
    "    values('Java','2019-05-20','길벗',500,10)\"\"\")\n",
    "    sql='insert into books values(?,?,?,?,?)'\n",
    "    cursor.execute(sql,('Python','201001','한빛',584,20))\n",
    "    items=[\n",
    "        ('빅데이터','2014-07-02','삼성',296,11),\n",
    "        ('안드로이드','2010-02-02','영진',526,20),\n",
    "        ('Spring','2013-12-02','삼성',248,15)\n",
    "    ]\n",
    "    cursor.executemany(sql,items)\n",
    "    conn.commit()\n",
    "    conn.close()\n",
    "insert_books()"
   ]
  },
  {
   "cell_type": "code",
   "execution_count": 4,
   "metadata": {},
   "outputs": [
    {
     "name": "stdout",
     "output_type": "stream",
     "text": [
      "전체데이터 출력하기\n",
      "<class 'list'>\n",
      "10\n",
      "('Java', '2019-05-20', '길벗', 500, 10)\n",
      "('Python', '201001', '한빛', 584, 20)\n",
      "('빅데이터', '2014-07-02', '삼성', 296, 11)\n",
      "('안드로이드', '2010-02-02', '영진', 526, 20)\n",
      "('Spring', '2013-12-02', '삼성', 248, 15)\n",
      "('Java', '2019-05-20', '길벗', 500, 10)\n",
      "('Python', '201001', '한빛', 584, 20)\n",
      "('빅데이터', '2014-07-02', '삼성', 296, 11)\n",
      "('안드로이드', '2010-02-02', '영진', 526, 20)\n",
      "('Spring', '2013-12-02', '삼성', 248, 15)\n"
     ]
    }
   ],
   "source": [
    "def all_books():\n",
    "    conn=sqlite3.connect(\"my_books2.db\")\n",
    "    cursor=conn.cursor()\n",
    "    cursor.execute(\"select * from books\")\n",
    "    print('전체데이터 출력하기')\n",
    "    books=cursor.fetchall()\n",
    "   \n",
    "    print(type(books))\n",
    "    \n",
    "    print(len(books))\n",
    "    \n",
    "    for book in books:\n",
    "        print(book)\n",
    "    conn.close()\n",
    "all_books()\n",
    "    "
   ]
  },
  {
   "cell_type": "code",
   "execution_count": 10,
   "metadata": {},
   "outputs": [
    {
     "name": "stdout",
     "output_type": "stream",
     "text": [
      "('Java', '2019-05-20', '길벗', 500, 10)\n",
      "('Python', '201001', '한빛', 584, 20)\n",
      "('빅데이터', '2014-07-02', '삼성', 296, 11)\n"
     ]
    }
   ],
   "source": [
    "#데이터 개수 지정하여 출력\n",
    "def some_books(number):\n",
    "    conn=sqlite3.connect(\"my_books2.db\")\n",
    "    cursor=conn.cursor()\n",
    "    cursor.execute(\"select * from books\")\n",
    "    books=cursor.fetchmany(number)\n",
    "    for book in books:\n",
    "        print(book)\n",
    "        conn.close()\n",
    "some_books(3)"
   ]
  },
  {
   "cell_type": "code",
   "execution_count": 20,
   "metadata": {},
   "outputs": [
    {
     "name": "stdout",
     "output_type": "stream",
     "text": [
      "전체데이터 출력하기\n",
      "<class 'list'>\n",
      "10\n",
      "('Java', '2019-05-20', '길벗', 350, 10)\n",
      "('Python', '201001', '한빛', 584, 20)\n",
      "('빅데이터', '2014-07-02', '삼성', 296, 11)\n",
      "('안드로이드', '2010-02-02', '영진', 526, 20)\n",
      "('Spring', '2013-12-02', '삼성', 248, 15)\n",
      "('Java', '2019-05-20', '길벗', 350, 10)\n",
      "('Python', '201001', '한빛', 584, 20)\n",
      "('빅데이터', '2014-07-02', '삼성', 296, 11)\n",
      "('안드로이드', '2010-02-02', '영진', 526, 20)\n",
      "('Spring', '2013-12-02', '삼성', 248, 15)\n"
     ]
    }
   ],
   "source": [
    "#수정하기\n",
    "def update_books():\n",
    "    conn=sqlite3.connect(\"my_books2.db\")\n",
    "    cursor=conn.cursor()\n",
    "    sql='update books set pages=? where title=?'\n",
    "    cursor.execute(sql,(350,'Java'))\n",
    "    conn.commit()\n",
    "    conn.close()\n",
    "update_books()\n",
    "all_books()"
   ]
  },
  {
   "cell_type": "code",
   "execution_count": 21,
   "metadata": {},
   "outputs": [
    {
     "name": "stdout",
     "output_type": "stream",
     "text": [
      "전체데이터 출력하기\n",
      "<class 'list'>\n",
      "8\n",
      "('Java', '2019-05-20', '길벗', 350, 10)\n",
      "('빅데이터', '2014-07-02', '삼성', 296, 11)\n",
      "('안드로이드', '2010-02-02', '영진', 526, 20)\n",
      "('Spring', '2013-12-02', '삼성', 248, 15)\n",
      "('Java', '2019-05-20', '길벗', 350, 10)\n",
      "('빅데이터', '2014-07-02', '삼성', 296, 11)\n",
      "('안드로이드', '2010-02-02', '영진', 526, 20)\n",
      "('Spring', '2013-12-02', '삼성', 248, 15)\n"
     ]
    }
   ],
   "source": [
    "#삭제하기\n",
    "def delete_books():\n",
    "    conn=sqlite3.connect(\"my_books2.db\")\n",
    "    cursor=conn.cursor()\n",
    "    sql=\"delete from books where publisher='한빛'\"\n",
    "    cursor.execute(sql)\n",
    "    conn.commit()\n",
    "    conn.close()\n",
    "delete_books()\n",
    "all_books()"
   ]
  }
 ],
 "metadata": {
  "kernelspec": {
   "display_name": "Python 3",
   "language": "python",
   "name": "python3"
  },
  "language_info": {
   "codemirror_mode": {
    "name": "ipython",
    "version": 3
   },
   "file_extension": ".py",
   "mimetype": "text/x-python",
   "name": "python",
   "nbconvert_exporter": "python",
   "pygments_lexer": "ipython3",
   "version": "3.7.4"
  }
 },
 "nbformat": 4,
 "nbformat_minor": 2
}
